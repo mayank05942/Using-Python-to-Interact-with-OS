{
  "nbformat": 4,
  "nbformat_minor": 0,
  "metadata": {
    "colab": {
      "name": "numpy.ipynb",
      "provenance": [],
      "collapsed_sections": [],
      "authorship_tag": "ABX9TyPt3oLWl3PY+H9XV+lLa/64",
      "include_colab_link": true
    },
    "kernelspec": {
      "name": "python3",
      "display_name": "Python 3"
    },
    "language_info": {
      "name": "python"
    }
  },
  "cells": [
    {
      "cell_type": "markdown",
      "metadata": {
        "id": "view-in-github",
        "colab_type": "text"
      },
      "source": [
        "<a href=\"https://colab.research.google.com/github/mayank05942/Using-Python-to-Interact-with-OS/blob/master/numpy.ipynb\" target=\"_parent\"><img src=\"https://colab.research.google.com/assets/colab-badge.svg\" alt=\"Open In Colab\"/></a>"
      ]
    },
    {
      "cell_type": "code",
      "metadata": {
        "id": "BPhjBDkpoG2i"
      },
      "source": [
        "import numpy as np"
      ],
      "execution_count": null,
      "outputs": []
    },
    {
      "cell_type": "markdown",
      "metadata": {
        "id": "dJNSjJebpJIc"
      },
      "source": [
        "# Creating numpy array"
      ]
    },
    {
      "cell_type": "code",
      "metadata": {
        "colab": {
          "base_uri": "https://localhost:8080/"
        },
        "id": "SfNIzb_VpC-K",
        "outputId": "73715d22-5c9a-45f4-fb51-c7f5d96247fa"
      },
      "source": [
        "a = np.array([1,2,3])\n",
        "type(a)"
      ],
      "execution_count": null,
      "outputs": [
        {
          "output_type": "execute_result",
          "data": {
            "text/plain": [
              "numpy.ndarray"
            ]
          },
          "metadata": {
            "tags": []
          },
          "execution_count": 2
        }
      ]
    },
    {
      "cell_type": "code",
      "metadata": {
        "colab": {
          "base_uri": "https://localhost:8080/"
        },
        "id": "vDGt16tKpXbp",
        "outputId": "49df358a-409b-4aac-bdcc-78317d68f3c5"
      },
      "source": [
        "# Numpy arrays cannot have elements of different types\n",
        "# If different data types are present they will be converted into strings ( Unlike Lists)\n",
        "\n",
        "a = [1,2,3,'mayank',4.5]\n",
        "b = np.array(a)\n",
        "b"
      ],
      "execution_count": null,
      "outputs": [
        {
          "output_type": "execute_result",
          "data": {
            "text/plain": [
              "array(['1', '2', '3', 'mayank', '4.5'], dtype='<U21')"
            ]
          },
          "metadata": {
            "tags": []
          },
          "execution_count": 3
        }
      ]
    },
    {
      "cell_type": "code",
      "metadata": {
        "colab": {
          "base_uri": "https://localhost:8080/"
        },
        "id": "2w2pf8aGpqP9",
        "outputId": "65447a26-d12d-4888-98d3-4a63cb7deeb1"
      },
      "source": [
        "# The behaviour could be changes if we specify the dtype as int -> will not work for strings\n",
        "# strings cannot be directly converted into int->     string->float->int\n",
        "a = [1,2,3,'4',4.5]\n",
        "b = np.array(a,dtype= float)\n",
        "b"
      ],
      "execution_count": null,
      "outputs": [
        {
          "output_type": "execute_result",
          "data": {
            "text/plain": [
              "array([1. , 2. , 3. , 4. , 4.5])"
            ]
          },
          "metadata": {
            "tags": []
          },
          "execution_count": 5
        }
      ]
    },
    {
      "cell_type": "code",
      "metadata": {
        "colab": {
          "base_uri": "https://localhost:8080/"
        },
        "id": "XyauV7uvrAam",
        "outputId": "f3937f83-b8b2-4fd1-8608-fc7a5264be73"
      },
      "source": [
        "b = np.ones(3,dtype = int) # deafult: float\n",
        "b"
      ],
      "execution_count": null,
      "outputs": [
        {
          "output_type": "execute_result",
          "data": {
            "text/plain": [
              "array([1, 1, 1])"
            ]
          },
          "metadata": {
            "tags": []
          },
          "execution_count": 9
        }
      ]
    },
    {
      "cell_type": "code",
      "metadata": {
        "colab": {
          "base_uri": "https://localhost:8080/"
        },
        "id": "412plWPdqsX6",
        "outputId": "f88eff0d-f1a9-4012-e678-a2876e73f043"
      },
      "source": [
        "b = np.zeros(3,dtype = int)\n",
        "b"
      ],
      "execution_count": null,
      "outputs": [
        {
          "output_type": "execute_result",
          "data": {
            "text/plain": [
              "array([0, 0, 0])"
            ]
          },
          "metadata": {
            "tags": []
          },
          "execution_count": 11
        }
      ]
    },
    {
      "cell_type": "code",
      "metadata": {
        "colab": {
          "base_uri": "https://localhost:8080/"
        },
        "id": "nojix6u2rS8j",
        "outputId": "b4e2185e-8f99-42df-b223-4679fb86b624"
      },
      "source": [
        "# Multi-dim arrays\n",
        "b = np.ones((2,3))\n",
        "b"
      ],
      "execution_count": null,
      "outputs": [
        {
          "output_type": "execute_result",
          "data": {
            "text/plain": [
              "array([[1., 1., 1.],\n",
              "       [1., 1., 1.]])"
            ]
          },
          "metadata": {
            "tags": []
          },
          "execution_count": 12
        }
      ]
    },
    {
      "cell_type": "code",
      "metadata": {
        "colab": {
          "base_uri": "https://localhost:8080/"
        },
        "id": "COE6k2QPranL",
        "outputId": "6c314b5a-6529-4199-b4e6-1839f1797a54"
      },
      "source": [
        "b = np.full(3,5) # (dim,fill_value)\n",
        "b"
      ],
      "execution_count": null,
      "outputs": [
        {
          "output_type": "execute_result",
          "data": {
            "text/plain": [
              "array([5, 5, 5])"
            ]
          },
          "metadata": {
            "tags": []
          },
          "execution_count": 13
        }
      ]
    },
    {
      "cell_type": "code",
      "metadata": {
        "colab": {
          "base_uri": "https://localhost:8080/"
        },
        "id": "HEKZUOA2r-Ip",
        "outputId": "1fa0c10c-b25a-4613-e827-9e7e5b291bc8"
      },
      "source": [
        "# Creating a linespace array with a given step size\n",
        "# np.arange(start,end-1,step)\n",
        "b = np.arange(2,10,2)\n",
        "b\n"
      ],
      "execution_count": null,
      "outputs": [
        {
          "output_type": "execute_result",
          "data": {
            "text/plain": [
              "array([2, 4, 6, 8])"
            ]
          },
          "metadata": {
            "tags": []
          },
          "execution_count": 17
        }
      ]
    },
    {
      "cell_type": "code",
      "metadata": {
        "colab": {
          "base_uri": "https://localhost:8080/"
        },
        "id": "jUHD9-vpsbcg",
        "outputId": "1bfebe2d-0a06-4182-8c13-8ef8ebc88992"
      },
      "source": [
        "# line space -> generate 50 samples between a,b default otherwise specified -> stepsize is automatically calculated\n",
        "b = np.linspace(2,10)\n",
        "b"
      ],
      "execution_count": null,
      "outputs": [
        {
          "output_type": "execute_result",
          "data": {
            "text/plain": [
              "array([ 2.        ,  2.16326531,  2.32653061,  2.48979592,  2.65306122,\n",
              "        2.81632653,  2.97959184,  3.14285714,  3.30612245,  3.46938776,\n",
              "        3.63265306,  3.79591837,  3.95918367,  4.12244898,  4.28571429,\n",
              "        4.44897959,  4.6122449 ,  4.7755102 ,  4.93877551,  5.10204082,\n",
              "        5.26530612,  5.42857143,  5.59183673,  5.75510204,  5.91836735,\n",
              "        6.08163265,  6.24489796,  6.40816327,  6.57142857,  6.73469388,\n",
              "        6.89795918,  7.06122449,  7.2244898 ,  7.3877551 ,  7.55102041,\n",
              "        7.71428571,  7.87755102,  8.04081633,  8.20408163,  8.36734694,\n",
              "        8.53061224,  8.69387755,  8.85714286,  9.02040816,  9.18367347,\n",
              "        9.34693878,  9.51020408,  9.67346939,  9.83673469, 10.        ])"
            ]
          },
          "metadata": {
            "tags": []
          },
          "execution_count": 19
        }
      ]
    },
    {
      "cell_type": "code",
      "metadata": {
        "colab": {
          "base_uri": "https://localhost:8080/"
        },
        "id": "KFxRQxcAs0S8",
        "outputId": "ba6968d6-0815-48a6-e674-e97684755ca9"
      },
      "source": [
        "b = np.linspace(2,10,5)\n",
        "b"
      ],
      "execution_count": null,
      "outputs": [
        {
          "output_type": "execute_result",
          "data": {
            "text/plain": [
              "array([ 2.,  4.,  6.,  8., 10.])"
            ]
          },
          "metadata": {
            "tags": []
          },
          "execution_count": 20
        }
      ]
    },
    {
      "cell_type": "code",
      "metadata": {
        "colab": {
          "base_uri": "https://localhost:8080/"
        },
        "id": "QtgUucK6tUrC",
        "outputId": "aa64b6cd-5270-4ab1-d564-0ec841dccc16"
      },
      "source": [
        "b = np.identity(3) # only square indentity matrix\n",
        "b"
      ],
      "execution_count": null,
      "outputs": [
        {
          "output_type": "execute_result",
          "data": {
            "text/plain": [
              "array([[1., 0., 0.],\n",
              "       [0., 1., 0.],\n",
              "       [0., 0., 1.]])"
            ]
          },
          "metadata": {
            "tags": []
          },
          "execution_count": 21
        }
      ]
    },
    {
      "cell_type": "code",
      "metadata": {
        "colab": {
          "base_uri": "https://localhost:8080/"
        },
        "id": "3Y98u8CTtdJr",
        "outputId": "e372d6f3-2c63-4ecc-93d9-980a06a75261"
      },
      "source": [
        "b = np.eye(3,4)\n",
        "b"
      ],
      "execution_count": null,
      "outputs": [
        {
          "output_type": "execute_result",
          "data": {
            "text/plain": [
              "array([[1., 0., 0., 0.],\n",
              "       [0., 1., 0., 0.],\n",
              "       [0., 0., 1., 0.]])"
            ]
          },
          "metadata": {
            "tags": []
          },
          "execution_count": 22
        }
      ]
    },
    {
      "cell_type": "code",
      "metadata": {
        "colab": {
          "base_uri": "https://localhost:8080/"
        },
        "id": "JqSTIYjktnDr",
        "outputId": "bb7df3ad-0c9b-48ca-b1e7-1336b4b0bdb0"
      },
      "source": [
        "# Generate random values\n",
        "# Distribution is uniform and is between 0 to 1\n",
        "b = np.random.rand(3)\n",
        "b"
      ],
      "execution_count": null,
      "outputs": [
        {
          "output_type": "execute_result",
          "data": {
            "text/plain": [
              "array([0.25478026, 0.98990748, 0.88520272])"
            ]
          },
          "metadata": {
            "tags": []
          },
          "execution_count": 23
        }
      ]
    },
    {
      "cell_type": "code",
      "metadata": {
        "colab": {
          "base_uri": "https://localhost:8080/"
        },
        "id": "_pNGN4fftvIQ",
        "outputId": "37755aa1-10df-4ae1-f33a-8889a04191bd"
      },
      "source": [
        "b = np.random.rand(3,4)\n",
        "b"
      ],
      "execution_count": null,
      "outputs": [
        {
          "output_type": "execute_result",
          "data": {
            "text/plain": [
              "array([[0.11191438, 0.97343879, 0.2188234 , 0.23188088],\n",
              "       [0.63950358, 0.86610548, 0.08716611, 0.48783509],\n",
              "       [0.71719832, 0.66728875, 0.43516447, 0.07394366]])"
            ]
          },
          "metadata": {
            "tags": []
          },
          "execution_count": 24
        }
      ]
    },
    {
      "cell_type": "code",
      "metadata": {
        "colab": {
          "base_uri": "https://localhost:8080/"
        },
        "id": "hDnVEnB3t2j8",
        "outputId": "bc47f767-20d3-4512-d351-f50869a43a0e"
      },
      "source": [
        "# if we want distribution between a certain range 0-b\n",
        "# p = np.random.rand(10)*b\n",
        "b = np.random.rand(5)*10\n",
        "b"
      ],
      "execution_count": null,
      "outputs": [
        {
          "output_type": "execute_result",
          "data": {
            "text/plain": [
              "array([2.0376931 , 9.39302999, 5.38493256, 9.07159193, 7.59229673])"
            ]
          },
          "metadata": {
            "tags": []
          },
          "execution_count": 27
        }
      ]
    },
    {
      "cell_type": "markdown",
      "metadata": {
        "id": "SqsfUQrPulUv"
      },
      "source": [
        "#Slicing and Indexing"
      ]
    },
    {
      "cell_type": "code",
      "metadata": {
        "colab": {
          "base_uri": "https://localhost:8080/"
        },
        "id": "QxYp0IoVuoLw",
        "outputId": "2cc79ecc-05f4-4c18-f3e3-3bf938c8e755"
      },
      "source": [
        "a = [1,2,3,4]\n",
        "b = np.array(a)\n",
        "print(b.data) # Memory location to the first element of the array (Like pointers in c++)\n",
        "print(b.shape) # size\n",
        "print(b.dtype) # type of data inside the array\n",
        "print(b.strides) # How many bytes to be skipped to move to the next element in the memory"
      ],
      "execution_count": null,
      "outputs": [
        {
          "output_type": "stream",
          "text": [
            "<memory at 0x7f22cc387940>\n",
            "(4,)\n",
            "int64\n",
            "(8,)\n"
          ],
          "name": "stdout"
        }
      ]
    },
    {
      "cell_type": "code",
      "metadata": {
        "colab": {
          "base_uri": "https://localhost:8080/"
        },
        "id": "57LkNBB7va0j",
        "outputId": "d2b01dea-3792-4084-d037-47eb4412d484"
      },
      "source": [
        "a1 = [[1,2,3],[4,5,6],[7,8,9]]\n",
        "b1 = np.array(a1)\n",
        "print(b1.data) # Memory location to the first element of the array (Like pointers in c++)\n",
        "print(b1.shape) # size\n",
        "print(b1.dtype) # type of data inside the array\n",
        "print(b1.strides) # How many bytes to be skipped to move to the next element in the memory"
      ],
      "execution_count": null,
      "outputs": [
        {
          "output_type": "stream",
          "text": [
            "<memory at 0x7f22cc2a79f0>\n",
            "(3, 3)\n",
            "int64\n",
            "(24, 8)\n"
          ],
          "name": "stdout"
        }
      ]
    },
    {
      "cell_type": "code",
      "metadata": {
        "colab": {
          "base_uri": "https://localhost:8080/"
        },
        "id": "Cj8TcwmIv4fq",
        "outputId": "f1bdba8a-588f-491e-d6f1-7ec07f21d639"
      },
      "source": [
        "# Slicing and indexing is same as of normal 1D-array\n",
        "# In 2D np array we can do: arr[4,5] which is same as arr[4][5]\n",
        "print(b1[2,2])\n",
        "print(b1[2][2])"
      ],
      "execution_count": null,
      "outputs": [
        {
          "output_type": "stream",
          "text": [
            "9\n",
            "9\n"
          ],
          "name": "stdout"
        }
      ]
    },
    {
      "cell_type": "code",
      "metadata": {
        "colab": {
          "base_uri": "https://localhost:8080/"
        },
        "id": "jvVMVyTaxQTX",
        "outputId": "b58cb7ed-08fa-41e1-a647-dd3066f5371f"
      },
      "source": [
        "print(b1[0:2,1]) # slicing is different in numpy and normal array, normal array first execute the first part and then second\n",
        "print(b[0:2][1])\n",
        "\n",
        "# Slicing inside the array-> Always use a np array not list-> like small square inside the matrix"
      ],
      "execution_count": null,
      "outputs": [
        {
          "output_type": "stream",
          "text": [
            "[2 5]\n",
            "2\n"
          ],
          "name": "stdout"
        }
      ]
    },
    {
      "cell_type": "markdown",
      "metadata": {
        "id": "9eeU5jPGyK3B"
      },
      "source": [
        "# Maths operations"
      ]
    },
    {
      "cell_type": "code",
      "metadata": {
        "colab": {
          "base_uri": "https://localhost:8080/"
        },
        "id": "uKqu5zj6yKIO",
        "outputId": "64bc0131-b325-41d5-ce29-c731999ac4f5"
      },
      "source": [
        "a = np.random.randint(1,20,5)\n",
        "b = np.random.randint(1,20,5)\n",
        "print(a)\n",
        "print(b)"
      ],
      "execution_count": null,
      "outputs": [
        {
          "output_type": "stream",
          "text": [
            "[ 1 11  8  3  6]\n",
            "[10 17  2  8 17]\n"
          ],
          "name": "stdout"
        }
      ]
    },
    {
      "cell_type": "code",
      "metadata": {
        "colab": {
          "base_uri": "https://localhost:8080/"
        },
        "id": "bY6jQUKRyaBv",
        "outputId": "429c7012-f124-41c7-c547-c27bd8ffaab7"
      },
      "source": [
        "# numpy uses vectorization due to which it can do 4 operations at a time, hence very fast\n",
        "a = a + 1  # element wise addition of 1\n",
        "a"
      ],
      "execution_count": null,
      "outputs": [
        {
          "output_type": "execute_result",
          "data": {
            "text/plain": [
              "array([ 2, 12,  9,  4,  7])"
            ]
          },
          "metadata": {
            "tags": []
          },
          "execution_count": 38
        }
      ]
    },
    {
      "cell_type": "code",
      "metadata": {
        "colab": {
          "base_uri": "https://localhost:8080/"
        },
        "id": "sIyCK4kEy6YJ",
        "outputId": "4eeefae1-16eb-4de4-a7a6-e81e463a8bf4"
      },
      "source": [
        "# element wise addtion to two arrays\n",
        "# similarly we can do -> {-,*,/,//,**} -> // floor divsion\n",
        "c = a + b \n",
        "c\n",
        "# no need to run a loop like in normal arrays"
      ],
      "execution_count": null,
      "outputs": [
        {
          "output_type": "execute_result",
          "data": {
            "text/plain": [
              "array([12, 29, 11, 12, 24])"
            ]
          },
          "metadata": {
            "tags": []
          },
          "execution_count": 39
        }
      ]
    },
    {
      "cell_type": "code",
      "metadata": {
        "colab": {
          "base_uri": "https://localhost:8080/"
        },
        "id": "g1lqaFsWy_cU",
        "outputId": "68e37096-2016-45cf-ce75-90f6d82ce711"
      },
      "source": [
        "print(a.mean())\n",
        "print(a.max())\n",
        "print(a.min())\n",
        "print(a.sum())\n",
        "print(a.argmax()) # index of max element\n",
        "print(a.argmin())"
      ],
      "execution_count": null,
      "outputs": [
        {
          "output_type": "stream",
          "text": [
            "6.8\n",
            "12\n",
            "2\n",
            "34\n",
            "1\n",
            "0\n"
          ],
          "name": "stdout"
        }
      ]
    },
    {
      "cell_type": "code",
      "metadata": {
        "colab": {
          "base_uri": "https://localhost:8080/"
        },
        "id": "aPKuM-52z1vs",
        "outputId": "d0021b5e-6f19-4164-fe43-282fe6e064e8"
      },
      "source": [
        "# Logical and Relational operations\n",
        "\n",
        "a > b # element wise check"
      ],
      "execution_count": null,
      "outputs": [
        {
          "output_type": "execute_result",
          "data": {
            "text/plain": [
              "array([False, False,  True, False, False])"
            ]
          },
          "metadata": {
            "tags": []
          },
          "execution_count": 42
        }
      ]
    },
    {
      "cell_type": "code",
      "metadata": {
        "colab": {
          "base_uri": "https://localhost:8080/"
        },
        "id": "a35GXp1Dz7-z",
        "outputId": "aa4a5ae8-3558-4b63-a98a-da855c2fd6fe"
      },
      "source": [
        "# AND, OR and NOT operation\n",
        "print(np.logical_and(a,b))"
      ],
      "execution_count": null,
      "outputs": [
        {
          "output_type": "stream",
          "text": [
            "[ True  True  True  True  True]\n"
          ],
          "name": "stdout"
        }
      ]
    },
    {
      "cell_type": "markdown",
      "metadata": {
        "id": "jPrq65r50bS_"
      },
      "source": [
        "#Boolean Indexing"
      ]
    },
    {
      "cell_type": "code",
      "metadata": {
        "colab": {
          "base_uri": "https://localhost:8080/"
        },
        "id": "GCdNLSV70d9u",
        "outputId": "6a476c17-66ee-4005-d76d-7b26c1e74f68"
      },
      "source": [
        "# getting the index of those samples which satisfying some conditions using a boolean array\n",
        "# extract elements according to a condition\n",
        "bool_arr = a > 2\n",
        "print(bool_arr)\n",
        "new_arr = a[bool_arr] # will return those samples whose index is True\n",
        "print(a)\n",
        "new_arr\n"
      ],
      "execution_count": 48,
      "outputs": [
        {
          "output_type": "stream",
          "text": [
            "[False  True  True  True  True]\n",
            "[ 2 12  9  4  7]\n"
          ],
          "name": "stdout"
        },
        {
          "output_type": "execute_result",
          "data": {
            "text/plain": [
              "array([12,  9,  4,  7])"
            ]
          },
          "metadata": {
            "tags": []
          },
          "execution_count": 48
        }
      ]
    },
    {
      "cell_type": "code",
      "metadata": {
        "colab": {
          "base_uri": "https://localhost:8080/"
        },
        "id": "-7xc44ps5gtv",
        "outputId": "1b75ffca-a2d4-4a3f-9ee0-9ecf8ad67509"
      },
      "source": [
        "# Update elements through slicing\n",
        "a[:3] = 9\n",
        "a"
      ],
      "execution_count": 49,
      "outputs": [
        {
          "output_type": "execute_result",
          "data": {
            "text/plain": [
              "array([9, 9, 9, 4, 7])"
            ]
          },
          "metadata": {
            "tags": []
          },
          "execution_count": 49
        }
      ]
    },
    {
      "cell_type": "code",
      "metadata": {
        "colab": {
          "base_uri": "https://localhost:8080/"
        },
        "id": "tZJBjPnc5pah",
        "outputId": "7626d033-499d-4b79-8c2a-1530da703f88"
      },
      "source": [
        "# Update using condition\n",
        "a[a>5] = 6\n",
        "a"
      ],
      "execution_count": 51,
      "outputs": [
        {
          "output_type": "execute_result",
          "data": {
            "text/plain": [
              "array([6, 6, 6, 4, 6])"
            ]
          },
          "metadata": {
            "tags": []
          },
          "execution_count": 51
        }
      ]
    },
    {
      "cell_type": "code",
      "metadata": {
        "colab": {
          "base_uri": "https://localhost:8080/"
        },
        "id": "Zv4BoN006LsC",
        "outputId": "528ec2e0-f420-48b9-d7fe-af70a7e2bdc8"
      },
      "source": [
        "# Finding the index of those elements which satisfy a given condition\n",
        "ind = np.where(a == 6)\n",
        "ind"
      ],
      "execution_count": 52,
      "outputs": [
        {
          "output_type": "execute_result",
          "data": {
            "text/plain": [
              "(array([0, 1, 2, 4]),)"
            ]
          },
          "metadata": {
            "tags": []
          },
          "execution_count": 52
        }
      ]
    },
    {
      "cell_type": "code",
      "metadata": {
        "colab": {
          "base_uri": "https://localhost:8080/"
        },
        "id": "h5bXNq8j7Bc_",
        "outputId": "d41e10be-0acf-4e2f-a2ac-2fa17871d7d4"
      },
      "source": [
        "a = np.random.randint(1,30,(5,6))\n",
        "a"
      ],
      "execution_count": 53,
      "outputs": [
        {
          "output_type": "execute_result",
          "data": {
            "text/plain": [
              "array([[ 1,  6,  4, 15, 18, 17],\n",
              "       [26, 17, 19,  6,  7, 13],\n",
              "       [27,  3,  7,  8,  7, 14],\n",
              "       [12, 18, 24, 11,  9, 12],\n",
              "       [23, 12, 14, 29, 24,  7]])"
            ]
          },
          "metadata": {
            "tags": []
          },
          "execution_count": 53
        }
      ]
    },
    {
      "cell_type": "code",
      "metadata": {
        "colab": {
          "base_uri": "https://localhost:8080/"
        },
        "id": "2cqeUVXD7Kv7",
        "outputId": "a234160a-b7cb-45de-a7e7-d627c167b00e"
      },
      "source": [
        "a > 20"
      ],
      "execution_count": 54,
      "outputs": [
        {
          "output_type": "execute_result",
          "data": {
            "text/plain": [
              "array([[False, False, False, False, False, False],\n",
              "       [ True, False, False, False, False, False],\n",
              "       [ True, False, False, False, False, False],\n",
              "       [False, False,  True, False, False, False],\n",
              "       [ True, False, False,  True,  True, False]])"
            ]
          },
          "metadata": {
            "tags": []
          },
          "execution_count": 54
        }
      ]
    },
    {
      "cell_type": "markdown",
      "metadata": {
        "id": "Wq0eXTJe8yHn"
      },
      "source": [
        "# Broadcasting"
      ]
    },
    {
      "cell_type": "code",
      "metadata": {
        "id": "MHK3-BU88wsI"
      },
      "source": [
        "# Dealing with arrays with different dimensions\n",
        "# Broadcastingh describes how numpy will treat arrays with unequal dimensions\n",
        "# Compatibility conditions for np maths operations\n",
        "#1- Two arrays have same dim\n",
        "#2- One of them have 1 in the dim like: (3,3) vs (1,3) - > Broadcasting will work here\n",
        "# Broadcasting will repeat repeats to make dim compatible -> Done internally\n",
        "# array will lesser dim is broadcasted to fill the shape\n",
        "# Learn resize() and reshape()"
      ],
      "execution_count": 55,
      "outputs": []
    }
  ]
}